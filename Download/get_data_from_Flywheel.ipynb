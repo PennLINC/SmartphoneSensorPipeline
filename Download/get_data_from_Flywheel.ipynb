{
 "cells": [
  {
   "cell_type": "markdown",
   "metadata": {},
   "source": [
    "# Download Data From Flywheel"
   ]
  },
  {
   "cell_type": "markdown",
   "metadata": {},
   "source": [
    "*Make sure you have set up [Flywheel CLI](https://docs.flywheel.io/hc/en-us/articles/360008162214-Installing-the-Command-Line-Interface-CLI-) already before proceeding.*"
   ]
  },
  {
   "cell_type": "code",
   "execution_count": 409,
   "metadata": {},
   "outputs": [],
   "source": [
    "import flywheel\n",
    "import os\n",
    "from os import listdir, path as op\n",
    "from pathlib import Path\n",
    "import pandas as pd\n",
    "import math"
   ]
  },
  {
   "cell_type": "markdown",
   "metadata": {},
   "source": [
    "### Set up project"
   ]
  },
  {
   "cell_type": "code",
   "execution_count": 410,
   "metadata": {},
   "outputs": [],
   "source": [
    "# the file to be downloaded\n",
    "project_name = \"GRMPY_822831\"\n",
    "file_to_download = \"power264.net\"\n",
    "\n",
    "# create a folder to store downloaded files\n",
    "outpath = \"/Users/hxia/Documents/xia_gps/data/flywheel_data\"\n",
    "datapath = os.path.join(outpath,file_to_download.replace(\".\",'_'))\n",
    "Path(datapath).mkdir(exist_ok=True)"
   ]
  },
  {
   "cell_type": "code",
   "execution_count": 411,
   "metadata": {},
   "outputs": [],
   "source": [
    "# create cohort\n",
    "cohort_file = os.path.join(outpath,\"../clinical_data/subjecttracker_4.xlsx\")\n",
    "xl = pd.ExcelFile(cohort_file,engine=\"openpyxl\")\n",
    "df1 = xl.parse('Sheet1')\n",
    "cohort_list = []\n",
    "for each in df1['BBLID']:\n",
    "    if math.isnan(each):\n",
    "        continue\n",
    "    cohort_list.append(str(each).split(\".\")[0])"
   ]
  },
  {
   "cell_type": "markdown",
   "metadata": {},
   "source": [
    "### Connect to Flywheel"
   ]
  },
  {
   "cell_type": "code",
   "execution_count": 412,
   "metadata": {},
   "outputs": [
    {
     "name": "stderr",
     "output_type": "stream",
     "text": [
      "WARNING:Flywheel:Use \"pip install flywheel-sdk~=11.3.4\" to install a compatible version for this server\n"
     ]
    }
   ],
   "source": [
    "fw = flywheel.Client()\n",
    "project = fw.projects.find_first('label=\"' + project_name + '\"')\n",
    "subjects = project.subjects()"
   ]
  },
  {
   "cell_type": "code",
   "execution_count": 414,
   "metadata": {},
   "outputs": [
    {
     "name": "stdout",
     "output_type": "stream",
     "text": [
      "\n",
      "subject 20327\n",
      " session: 11170\n",
      "\n",
      "subject 20387\n",
      " session: 11165\n",
      "\n",
      "subject 88760\n",
      " session: 11150\n",
      "\n",
      "subject 87445\n",
      " session: 11153\n",
      "\n",
      "subject 20362\n",
      " session: 11149\n",
      "\n",
      "subject 20313\n",
      " session: 11136\n",
      "\n",
      "subject 20325\n",
      " session: 11128\n",
      "\n",
      "subject 20247\n",
      " session: 11123\n",
      "\n",
      "subject 20320\n",
      " session: 11108\n",
      "\n",
      "subject 92089\n",
      " session: 11104\n",
      "\n",
      "subject 20197\n",
      " session: 10999\n",
      "\n",
      "subject 20189\n",
      " session: 10988\n",
      "\n",
      "subject 88589\n",
      " session: 10975\n",
      "\n",
      "subject 85743\n",
      " session: 10974\n",
      "\n",
      "subject 129552\n",
      " session: 10976\n",
      "\n",
      "subject 20151\n",
      " session: 10947\n",
      "\n",
      "subject 20120\n",
      " session: 10943\n",
      "\n",
      "subject 20120\n",
      " session: 10939\n",
      "\n",
      "subject 20386\n",
      " session: 11188\n",
      "\n",
      "subject 20326\n",
      " session: 11192\n",
      "\n",
      "subject 95257\n",
      " session: 11191\n",
      "\n",
      "subject 95257\n",
      " session: 11252\n",
      "\n",
      "subject 112028\n",
      " session: 11225\n",
      "\n",
      "subject 107055\n",
      " session: 11231\n",
      "\n",
      "subject 83372\n",
      " session: 11230\n",
      "\n",
      "subject 20589\n",
      " session: 11245\n",
      "\n",
      "subject 98422\n",
      " session: 11250\n",
      "\n",
      "subject 94492\n",
      " session: 11251\n",
      "\n",
      "subject 115800\n",
      " session: 11253\n",
      "\n",
      "subject 98535\n",
      " session: 11254\n",
      "\n",
      "subject 126921\n",
      " session: 11262\n",
      "\n",
      "subject 20649\n",
      " session: 11287\n",
      "\n",
      "subject 20699\n",
      " session: 11303\n",
      "\n",
      "subject 20888\n",
      " session: 11364\n",
      "\n",
      "subject 20940\n",
      " session: 11401\n",
      "\n",
      "subject 20941\n",
      " session: 11403\n",
      "\n",
      "subject 20963\n",
      " session: 11414\n",
      "\n",
      "subject 20974\n",
      " session: 11415\n",
      "\n",
      "subject 21016\n",
      " session: 11431\n",
      "\n",
      "subject 21059\n",
      " session: 11445\n",
      "   found!\n",
      "\n",
      "subject 21056\n",
      " session: 11447\n",
      "\n",
      "subject 21085\n",
      " session: 11456\n",
      "\n",
      "subject 20981\n",
      " session: 11462\n"
     ]
    }
   ],
   "source": [
    "for subject in subjects:\n",
    "    if subject.label not in cohort_list:\n",
    "        continue\n",
    "    sessions = subject.sessions()\n",
    "    for sess in sessions:\n",
    "        print(\"\\nsubject\",sess.subject.code)\n",
    "        print(\" session:\", sess.label)\n",
    "        sess = fw.get(sess.id)\n",
    "        for an in sess.analyses:\n",
    "            \n",
    "            #print(\"  \",an.label)\n",
    "            if \"XCP_task_2020-06-16 18:16:31\" not in an.label:\n",
    "                #print(\"   Not my analysis, skipping!\")\n",
    "                continue\n",
    "            else:\n",
    "                print(\"   found!\")\n",
    "                try:\n",
    "                    zip_info = an.get_file_zip_info('xcpEngineouput_xcp.zip')\n",
    "                    \n",
    "                    subj_path = os.path.join(datapath,sess.subject.code)\n",
    "                    Path(subj_path).mkdir(exist_ok=True)\n",
    "                    \n",
    "                    flywheel_files = [member.path for member in zip_info.members if \n",
    "                                member.path.endswith(file_to_download)]\n",
    "                    for file_path in flywheel_files:\n",
    "                        file_name = os.path.join(subj_path,op.split(file_path)[1])\n",
    "                        an.download_file_zip_member('xcpEngineouput_xcp.zip',file_path,file_name)\n",
    "                except Exception:\n",
    "                    print(\"    ApiException\")\n",
    "                    pass"
   ]
  },
  {
   "cell_type": "code",
   "execution_count": 370,
   "metadata": {},
   "outputs": [],
   "source": [
    "cohort_dl = []\n",
    "for each in os.listdir(datapath):\n",
    "    cohort_dl.append(each.split(\"_\")[0].split(\"-\")[1])"
   ]
  },
  {
   "cell_type": "code",
   "execution_count": 375,
   "metadata": {},
   "outputs": [
    {
     "data": {
      "text/plain": [
       "['21059']"
      ]
     },
     "execution_count": 375,
     "metadata": {},
     "output_type": "execute_result"
    }
   ],
   "source": [
    "def Diff(li1, li2): \n",
    "    return (list(set(li1) - set(li2))) \n",
    "Diff(cohort_list,cohort_dl)"
   ]
  },
  {
   "cell_type": "code",
   "execution_count": 385,
   "metadata": {},
   "outputs": [],
   "source": [
    "?an.download_file_zip_member"
   ]
  },
  {
   "cell_type": "code",
   "execution_count": 416,
   "metadata": {},
   "outputs": [
    {
     "name": "stdout",
     "output_type": "stream",
     "text": [
      "\n",
      "subject 21059\n",
      " session: 11445\n",
      "   found!\n"
     ]
    }
   ],
   "source": [
    "for subject in subjects:\n",
    "    if subject.label in ['21059']:\n",
    "        sessions = subject.sessions()\n",
    "        for sess in sessions:\n",
    "            print(\"\\nsubject\",sess.subject.code)\n",
    "            print(\" session:\", sess.label)\n",
    "            sess = fw.get(sess.id)\n",
    "            for an in sess.analyses:\n",
    "\n",
    "                #print(\"  \",an.label)\n",
    "                if \"XCP_task_2020-06-16 18:16:31\" not in an.label:\n",
    "                    #print(\"   Not my analysis, skipping!\")\n",
    "                    continue\n",
    "                else:\n",
    "                    print(\"   found!\")\n",
    "                    try:\n",
    "                        zip_info = an.get_file_zip_info('xcpEngineouput_xcp.zip')\n",
    "\n",
    "                        subj_path = os.path.join(datapath,sess.subject.code)\n",
    "                        Path(subj_path).mkdir(exist_ok=True)\n",
    "\n",
    "                        flywheel_files = [member.path for member in zip_info.members if \n",
    "                                    member.path.endswith(file_to_download)]\n",
    "                        for file_path in flywheel_files:\n",
    "                            file_name = os.path.join(subj_path,op.split(file_path)[1])\n",
    "                            an.download_file_zip_member('xcpEngineouput_xcp.zip',file_path,file_name)\n",
    "                    except Exception:\n",
    "                        print(\"    ApiException\")\n",
    "                        pass"
   ]
  },
  {
   "cell_type": "code",
   "execution_count": 417,
   "metadata": {},
   "outputs": [
    {
     "data": {
      "text/plain": [
       "['xcpengine/',\n",
       " 'xcpengine/sub-21059/',\n",
       " 'xcpengine/sub-21059/ses-11445/',\n",
       " 'xcpengine/sub-21059/ses-11445/NA/',\n",
       " 'xcpengine/sub-21059/ses-11445/NA/NA/',\n",
       " 'xcpengine/sub-21059/ses-11445/NA/NA/sub-21059_ses-11445_NA_NA_logs/',\n",
       " 'xcpengine/sub-21059/ses-11445/NA/NA/sub-21059_ses-11445_NA_NA_logs/task_root_202006161832_sub-21059_ses-11445_NA_NALOG-process',\n",
       " 'xcpengine/sub-21059/ses-11445/NA/NA/sub-21059_ses-11445_NA_NA_logs/sub-21059_ses-11445_NA_NA_audit.csv',\n",
       " 'xcpengine/sub-21059/ses-11445/NA/NA/sub-21059_ses-11445_NA_NA_derivatives.json',\n",
       " 'xcpengine/sub-21059/ses-11445/NA/NA/sub-21059_ses-11445_NA_NA_quality.csv',\n",
       " 'xcpengine/sub-21059/ses-11445/NA/NA/sub-21059_ses-11445_NA_NA_spaces.json',\n",
       " 'xcpengine/sub-21059/ses-11445/NA/NA/sub-21059_ses-11445_NA_NA_atlas/',\n",
       " 'xcpengine/sub-21059/ses-11445/NA/NA/sub-21059_ses-11445_NA_NA_atlas/sub-21059_ses-11445_NA_NA_atlas.json',\n",
       " 'xcpengine/group/',\n",
       " 'xcpengine/group/atlas.json',\n",
       " 'xcpengine/group/dependencies/',\n",
       " 'xcpengine/group/dependencies/task_root_202006161832_pipelineDescription.json',\n",
       " 'xcpengine/group/log/',\n",
       " 'xcpengine/group/error/',\n",
       " 'xcpengine/group/error/task_root-202006161832-0b237262-db3e-46ae-9c20-60208fba58e3-9001']"
      ]
     },
     "execution_count": 417,
     "metadata": {},
     "output_type": "execute_result"
    }
   ],
   "source": [
    "[member.path for member in zip_info.members]"
   ]
  },
  {
   "cell_type": "code",
   "execution_count": null,
   "metadata": {},
   "outputs": [],
   "source": []
  }
 ],
 "metadata": {
  "kernelspec": {
   "display_name": "Python 3",
   "language": "python",
   "name": "python3"
  },
  "language_info": {
   "codemirror_mode": {
    "name": "ipython",
    "version": 3
   },
   "file_extension": ".py",
   "mimetype": "text/x-python",
   "name": "python",
   "nbconvert_exporter": "python",
   "pygments_lexer": "ipython3",
   "version": "3.7.3"
  }
 },
 "nbformat": 4,
 "nbformat_minor": 4
}
